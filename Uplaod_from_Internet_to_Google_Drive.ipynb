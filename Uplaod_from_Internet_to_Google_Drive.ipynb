{
  "nbformat": 4,
  "nbformat_minor": 0,
  "metadata": {
    "colab": {
      "name": "Uplaod from Internet to Google Drive.ipynb",
      "provenance": [],
      "collapsed_sections": [],
      "authorship_tag": "ABX9TyM+z4yX/+gqXZw3OCMwUn8j",
      "include_colab_link": true
    },
    "kernelspec": {
      "name": "python3",
      "display_name": "Python 3"
    },
    "language_info": {
      "name": "python"
    }
  },
  "cells": [
    {
      "cell_type": "markdown",
      "metadata": {
        "id": "view-in-github",
        "colab_type": "text"
      },
      "source": [
        "<a href=\"https://colab.research.google.com/github/hamzabu004/Upload-to-Google-drive-from-Internet/blob/main/Uplaod_from_Internet_to_Google_Drive.ipynb\" target=\"_parent\"><img src=\"https://colab.research.google.com/assets/colab-badge.svg\" alt=\"Open In Colab\"/></a>"
      ]
    },
    {
      "cell_type": "markdown",
      "metadata": {
        "id": "GnfDS2wuKDaj"
      },
      "source": [
        "Mount Google Drive"
      ]
    },
    {
      "cell_type": "code",
      "metadata": {
        "colab": {
          "base_uri": "https://localhost:8080/"
        },
        "id": "W6srjOxYJz1a",
        "outputId": "c4e84e95-127e-46b3-ffc5-0d5bfbe31bff"
      },
      "source": [
        "from google.colab import drive\n",
        "drive.mount('/content/drive')"
      ],
      "execution_count": null,
      "outputs": [
        {
          "output_type": "stream",
          "name": "stdout",
          "text": [
            "Drive already mounted at /content/drive; to attempt to forcibly remount, call drive.mount(\"/content/drive\", force_remount=True).\n"
          ]
        }
      ]
    },
    {
      "cell_type": "markdown",
      "metadata": {
        "id": "EwzC4ZzGKKMa"
      },
      "source": [
        "Install Dependecies\n"
      ]
    },
    {
      "cell_type": "code",
      "metadata": {
        "colab": {
          "base_uri": "https://localhost:8080/"
        },
        "id": "AdW61cHyKJlp",
        "outputId": "98e1bd08-4e9d-4e7c-fb79-704faccc5d67"
      },
      "source": [
        "import urllib.request\n",
        "\n",
        "web_link = input(\"Enter URL\")\n",
        "\n",
        "filename = input(\"Enter File Name\")\n",
        "\n",
        "path = \"/content/drive/My Drive/Torrent/\"\n",
        "\n",
        "save_path = path+filename\n",
        "\n",
        "urllib.request.urlretrieve(web_link, save_path)   \n"
      ],
      "execution_count": null,
      "outputs": [
        {
          "name": "stdout",
          "output_type": "stream",
          "text": [
            "Enter URLhttps://de16.seedr.cc/ff_get/1006327977/E%20L%20James%20-%20Fifty%20Shades%20Darker%20(pdf).pdf?st=UMOkJ3jJbK4WMRAo28JY0g&e=1634087525\n",
            "Enter File Namefifty shades.pdf\n"
          ]
        },
        {
          "output_type": "execute_result",
          "data": {
            "text/plain": [
              "('/content/drive/My Drive/Torrent/fifty shades.pdf',\n",
              " <http.client.HTTPMessage at 0x7f30d51036d0>)"
            ]
          },
          "metadata": {},
          "execution_count": 3
        }
      ]
    }
  ]
}