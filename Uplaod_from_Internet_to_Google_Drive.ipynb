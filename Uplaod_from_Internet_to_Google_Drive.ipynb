{
  "nbformat": 4,
  "nbformat_minor": 0,
  "metadata": {
    "colab": {
      "name": "Uplaod from Internet to Google Drive.ipynb",
      "provenance": [],
      "collapsed_sections": [],
      "authorship_tag": "ABX9TyNTbpDTGfQhEmLz7uds4p9U",
      "include_colab_link": true
    },
    "kernelspec": {
      "name": "python3",
      "display_name": "Python 3"
    },
    "language_info": {
      "name": "python"
    }
  },
  "cells": [
    {
      "cell_type": "markdown",
      "metadata": {
        "id": "view-in-github",
        "colab_type": "text"
      },
      "source": [
        "<a href=\"https://colab.research.google.com/github/hamzabu004/Code/blob/main/Uplaod_from_Internet_to_Google_Drive.ipynb\" target=\"_parent\"><img src=\"https://colab.research.google.com/assets/colab-badge.svg\" alt=\"Open In Colab\"/></a>"
      ]
    },
    {
      "cell_type": "markdown",
      "metadata": {
        "id": "GnfDS2wuKDaj"
      },
      "source": [
        "Mount Google Drive"
      ]
    },
    {
      "cell_type": "code",
      "metadata": {
        "colab": {
          "base_uri": "https://localhost:8080/"
        },
        "id": "W6srjOxYJz1a",
        "outputId": "c4e84e95-127e-46b3-ffc5-0d5bfbe31bff"
      },
      "source": [
        "from google.colab import drive\n",
        "drive.mount('/content/drive')"
      ],
      "execution_count": null,
      "outputs": [
        {
          "output_type": "stream",
          "name": "stdout",
          "text": [
            "Drive already mounted at /content/drive; to attempt to forcibly remount, call drive.mount(\"/content/drive\", force_remount=True).\n"
          ]
        }
      ]
    },
    {
      "cell_type": "markdown",
      "metadata": {
        "id": "EwzC4ZzGKKMa"
      },
      "source": [
        "Install Dependecies\n"
      ]
    },
    {
      "cell_type": "code",
      "metadata": {
        "colab": {
          "base_uri": "https://localhost:8080/"
        },
        "id": "AdW61cHyKJlp",
        "outputId": "6a40cae0-6247-446c-dbda-588d91c7658a"
      },
      "source": [
        "import urllib.request\n",
        "\n",
        "web_link = input(\"Enter URL\")\n",
        "\n",
        "filename = input(\"Enter File Name\")\n",
        "\n",
        "path = \"/content/drive/My Drive/Torrent/\"\n",
        "\n",
        "save_path = path+filename\n",
        "\n",
        "urllib.request.urlretrieve(web_link, \"/content/drive/My Drive/Torrent/Monsyteratworkses0109\")   \n"
      ],
      "execution_count": 4,
      "outputs": [
        {
          "output_type": "stream",
          "name": "stdout",
          "text": [
            "Enter URL616\n",
            "Enter File Namefk.cpp\n",
            "/content/drive/My Drive/Torrent/fk.cpp\n"
          ]
        }
      ]
    }
  ]
}